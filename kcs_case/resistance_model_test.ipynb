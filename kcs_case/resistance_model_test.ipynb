{
 "cells": [
  {
   "cell_type": "markdown",
   "id": "2ffbaf32-a58f-44ca-927b-a1375b4dde8b",
   "metadata": {},
   "source": [
    "# KRISO KCS container ship - računska naloga\n",
    "\n",
    "S pomočjo testa modela ladje v bazenu, določimo upor realne ladje.\n"
   ]
  },
  {
   "cell_type": "code",
   "execution_count": null,
   "id": "2f92a9ce-4973-48d1-a14f-167dc1fe756b",
   "metadata": {},
   "outputs": [],
   "source": [
    "import math as mat\n",
    "import numpy as np\n",
    "import sympy as sym\n",
    "import scipy.interpolate as interpolate\n",
    "\n",
    "import matplotlib as mpl\n",
    "import matplotlib.pyplot as plt\n",
    "\n",
    "# set LaTeX fonts\n",
    "mpl.rc('text', usetex = True)\n",
    "mpl.rc('font', family = 'serif')\n",
    "sym.init_printing()"
   ]
  },
  {
   "cell_type": "code",
   "execution_count": null,
   "id": "a6def491-4f9e-443a-b8e5-9795cd599c35",
   "metadata": {},
   "outputs": [],
   "source": [
    "# Parametri modela\n",
    "\n",
    "# Lpp - length between perpendiculars [m]:  \n",
    "Lpp_m = 7.28;  Lpp_s = 250.0;\n",
    "\n",
    "# Lwl - length water line [m]:  \n",
    "Lwl_m = 7.42;  Lwl_s = 255.0;\n",
    "\n",
    "# Los - length over surface [m]:  \n",
    "Los_m = 7.85;  Los_s = 262.0;\n",
    "\n",
    "# B - breadth [m]:\n",
    "B_m = 1.02;  B_s = 35.0;\n",
    "\n",
    "# T - draught [m]:\n",
    "Tf_m = 0.342;  Tf_s = 11.74;\n",
    "Ta_m = 0.342;  Ta_s = 11.74;\n",
    "\n",
    "# D - displacemnt [m3]:\n",
    "D_m = 1.649;  D_s = 66822.61;\n",
    "\n",
    "# S - wetted surface [m2]:\n",
    "S_m = 9.95;  S_s = 11738.32;\n",
    "\n",
    "# x_b Position centre of buoyancy forward of midship\n",
    "xb = -0.571; # Lpp\n",
    "\n",
    "# Cb - block coefficinet:\n",
    "Cb = 0.6505;\n",
    "\n",
    "# Ratios\n",
    "# rlb =  5.582; # Lpp/B\n",
    "# rbt =  2.673; # B/T\n",
    "# rlt = 14.922; # L/T\n",
    "\n",
    "# Caam - Air resistance:\n",
    "Cair = 2.880E-05;\n",
    "\n",
    "# Propeler diameter [m]\n",
    "Dp = 8.0;\n",
    "\n",
    "# Kinematic viscosity [Pa s]:\n",
    "mu_m = 0.001;  mu_s = 0.001;\n",
    "\n",
    "# Density [kg/m3]:\n",
    "rho_m = 1000; rho_s = 1025; "
   ]
  },
  {
   "cell_type": "markdown",
   "id": "1db1434f-204c-4ac8-bbb1-3a40aa96d5ec",
   "metadata": {},
   "source": [
    "## Podatki meritev modela v bazenu\n",
    "\n",
    "V bazenu merimo celoten upor modela $F_m$ [N] za različne hitrosti $V_m$ [m/s]:"
   ]
  },
  {
   "cell_type": "code",
   "execution_count": null,
   "id": "72f5484f-ac41-414c-944b-30900c0242ab",
   "metadata": {},
   "outputs": [],
   "source": [
    "# Data [V_m, F_m]\n",
    "\n",
    "data = np.array([\n",
    "    [0.9151, 30.5507],\n",
    "    [1.2810, 58.1317],\n",
    "    [1.6469, 93.0954],\n",
    "    [1.9215, 128.6038],\n",
    "    [2.1962, 179.5267],\n",
    "    [2.3795, 259.0008]\n",
    "])\n",
    "\n",
    "dDim = data.shape[0]\n",
    "\n",
    "V_m = data.T[0];\n",
    "F_m = data.T[1];\n",
    "\n",
    "fig, ax = plt.subplots()\n",
    "fig.suptitle('Meritev upora modela');\n",
    "\n",
    "ax.plot(V_m, F_m, 'r-')\n",
    "ax.plot(V_m, F_m, 'g.')\n",
    "ax.set_xlabel('$V_m$ [m/s]')\n",
    "ax.set_ylabel('$F_m$ [N]')\n",
    "ax.grid(which='both')\n",
    "ax.grid(which='major', color='#DDDDDD', linewidth=0.8)\n",
    "ax.grid(which='minor', color='#EEEEEE', linestyle=':', linewidth=0.5)\n",
    "ax.minorticks_on()\n",
    "fig.savefig('model_resistance_measurements.pdf')"
   ]
  },
  {
   "cell_type": "markdown",
   "id": "547f89b1-aba0-4a42-864c-b25c5e3a58bd",
   "metadata": {},
   "source": [
    "## Interpoliranje podatkov meritve\n",
    "\n",
    "Podatke meritve interpoliramo s pomočjo kubičnih zlepkov, da dobimo gladko krivuljo. Nakar vzamemo 100 merskih toč iz interpolirane krivulje."
   ]
  },
  {
   "cell_type": "code",
   "execution_count": null,
   "id": "af0870af-7451-40e1-8dcc-1b1733c260dc",
   "metadata": {},
   "outputs": [],
   "source": [
    "# izdelamo BSpline krivuljo na merskih točkah\n",
    "t, c, k = interpolate.splrep(V_m, F_m, s=0, k=4)\n",
    "print('t: {:}\\nc: {:}\\nk: {:}'.format(t, c, k))\n",
    "spline = interpolate.BSpline(t, c, k, extrapolate=False)\n",
    "\n",
    "N = 100\n",
    "v_min, v_max = V_m.min(), V_m.max()\n",
    "vv = np.linspace(v_min, v_max, N)\n",
    "ff = spline(vv)"
   ]
  },
  {
   "cell_type": "code",
   "execution_count": null,
   "id": "fddbbd72-093c-4c66-8286-d014566d38ff",
   "metadata": {},
   "outputs": [],
   "source": [
    "fig, ax = plt.subplots()\n",
    "fig.suptitle('Meritev upora modela');\n",
    "\n",
    "ax.plot(vv, ff, 'r-', label='BSpline')\n",
    "ax.plot(V_m, F_m, 'g.', label='data')\n",
    "ax.set_xlabel('$V_m$ [m/s]')\n",
    "ax.set_ylabel('$F_m$ [N]')\n",
    "ax.grid(which='both')\n",
    "ax.grid(which='major', color='#DDDDDD', linewidth=0.8)\n",
    "ax.grid(which='minor', color='#EEEEEE', linestyle=':', linewidth=0.5)\n",
    "ax.minorticks_on()\n",
    "ax.legend()\n",
    "\n",
    "fig.savefig('model_resistance_interpolation.pdf')"
   ]
  },
  {
   "cell_type": "markdown",
   "id": "f67f52ab-162b-4fef-b8ab-4d6288625fde",
   "metadata": {},
   "source": [
    "## Pretvorba meritev v brezdimenzijske vrednosti\n",
    "\n",
    "Podatke pretvorimo v brezdimenzijsko formo, kjer pretvorimo\n",
    "\n",
    "- hitrost modela $V_m$ v Froude število\n",
    "$$\n",
    "F_r = \\frac{V_m}{\\sqrt{g \\: L_{pp}}}\n",
    "$$\n",
    "\n",
    "- silo $F_m$ v koeficient celotnega upora modela\n",
    "$$\n",
    "C_T^m = \\frac{F_m}{\\frac{1}{2} \\rho_m \\: V_m^2 \\: S_m}\n",
    "$$"
   ]
  },
  {
   "cell_type": "code",
   "execution_count": null,
   "id": "733754f6-759d-4906-8ade-7f6afe88ab80",
   "metadata": {},
   "outputs": [],
   "source": [
    "dDimInt = vv.shape[0]\n",
    "\n",
    "Fn = vv/mat.sqrt(9.81*Lpp_m)\n",
    "Ct_m = np.zeros(dDimInt);\n",
    "for i in range(dDimInt):\n",
    "    Ct_m[i] = ff[i]/(0.5*rho_m*vv[i]**2*S_m);\n",
    "\n",
    "fig, ax = plt.subplots()\n",
    "fig.suptitle('Celoten upora modela');\n",
    "\n",
    "ax.plot(Fn, Ct_m, 'b-')\n",
    "ax.set_xlabel('$F_r$')\n",
    "ax.set_ylabel('$C_T^m$')\n",
    "ax.grid(which='both')\n",
    "ax.grid(which='major', color='#DDDDDD', linewidth=0.8)\n",
    "ax.grid(which='minor', color='#EEEEEE', linestyle=':', linewidth=0.5)\n",
    "ax.minorticks_on()\n",
    "fig.savefig('model_resistance_total_dimless.pdf')"
   ]
  },
  {
   "cell_type": "markdown",
   "id": "c8caf40e-832f-4ea1-823d-5a4632cc272b",
   "metadata": {},
   "source": [
    "### Določitev minimalnega koeficienta celotnega upora modela\n",
    "\n",
    "S pomočjo interpolirane funkcije, lahko poiščemo tudi njen odvod. V primeru, ko je ta enak 0 smo v lokalnem nimimu ali maksimu. Poiščemo lokalni minimum, ki je naš optimalno Froudejevo število za minimalni koeficient upora."
   ]
  },
  {
   "cell_type": "code",
   "execution_count": null,
   "id": "df9a2f3a-fc1b-47d2-a258-8b1a2683da04",
   "metadata": {},
   "outputs": [],
   "source": [
    "# izdelamo BSpline krivuljo na merskih točkah\n",
    "t, c, k = interpolate.splrep(Fn, Ct_m, s=0, k=4)\n",
    "#print('t: {:}\\nc: {:}\\nk: {:}'.format(t, c, k))\n",
    "Ct_m_spl = interpolate.BSpline(t, c, k, extrapolate=False)\n",
    "\n",
    "d_Ct_m_spl = interpolate.splder(Ct_m_spl)\n",
    "extrema = interpolate.sproot(d_Ct_m_spl)\n",
    "\n",
    "opt_Fn = extrema[1]\n",
    "opt_Ct_m = Ct_m_spl(opt_Fn)\n",
    "print('Optimalen rezim plovbe modela:\\n\\t Fn: {:.5f}\\n\\t Ct_m: {:.5e}'.format(opt_Fn, opt_Ct_m))"
   ]
  },
  {
   "cell_type": "markdown",
   "id": "214ca1b2-8a96-4cd6-9ef7-b7ca9a097e98",
   "metadata": {},
   "source": [
    "<hr>\n",
    "\n",
    "## Rezidualni del upora\n",
    "\n",
    "*Od sedaj naprej uporabimo **interpolirane podatke**, da je meritev bolj zvezna!!*\n",
    "\n",
    "Preostali ali residualni del upora, določimo s formulo\n",
    "\n",
    "$$\n",
    "C_R^m = C_T^m - (1+k) C_F^m + C_A^m.\n",
    "$$\n",
    "\n",
    "Celotnemu brezdimenzijskem uporu $C_T^m$ tako odštejemo upora trenja $C_F^m$, upor forme $k \\: C_F^m$  in upora zraka $C_A^m$. Koeficient forme lahko določimo tudi empirično\n",
    "\n",
    "$$\n",
    "k = 0.6 \\: \\phi + 145.0 \\: \\phi^{3.5},\n",
    "$$\n",
    "\n",
    "kjer je \n",
    "\n",
    "$$\n",
    "\\phi = \\frac{C_B}{L_{WL}} \\sqrt{B(T_A + T_F)}.\n",
    "$$"
   ]
  },
  {
   "cell_type": "code",
   "execution_count": null,
   "id": "fcde11e6-9399-4365-9a24-cb11147900fe",
   "metadata": {},
   "outputs": [],
   "source": [
    "Rn_m = vv*Lpp_m/(mu_m/rho_m)\n",
    "phi = Cb/Lpp_m*mat.sqrt(B_m*(Tf_m + Ta_m))\n",
    "k = 0.6*phi + 145.0*phi**3.5\n",
    "\n",
    "Cf_m = np.zeros(dDimInt)\n",
    "for i in range(dDimInt):\n",
    "    Cf_m[i] = 0.075 / (mat.log10(Rn_m[i]) - 2)**2\n",
    "    \n",
    "Cr = np.zeros(dDimInt)\n",
    "for i in range(dDimInt):\n",
    "    Cr[i] = Ct_m[i] - (1+k)*Cf_m[i] - Cair\n",
    "    \n",
    "fig, ax = plt.subplots()\n",
    "fig.suptitle('Rezidualni upor modela');\n",
    "\n",
    "ax.plot(Fn, Cr, 'b-')\n",
    "ax.set_xlabel('$F_r$')\n",
    "ax.set_ylabel('$C_R$')\n",
    "ax.grid(which='both')\n",
    "ax.grid(which='major', color='#DDDDDD', linewidth=0.8)\n",
    "ax.grid(which='minor', color='#EEEEEE', linestyle=':', linewidth=0.5)\n",
    "ax.minorticks_on()\n",
    "fig.savefig('model_resistance_rezidual.pdf')"
   ]
  },
  {
   "cell_type": "markdown",
   "id": "807ffe0e-a67e-4ebf-b681-99e15e0e27e9",
   "metadata": {
    "tags": []
   },
   "source": [
    "## Določitev upora ladje s pomočjo upora modela\n",
    "\n",
    "Sedaj lahko določimo celoten upor ladje, kjer pa je potrebno upoštevati še podatek o hrapavosti površine. Popravek trenja zaradi hrapavosti površine določimo s  pomočjo Townsin (1990) formule, ki jo je privzel tudi ITTC\n",
    "\n",
    "$$\n",
    "\\Delta C_F = 0.044 \\left[ \\left( \\frac{H \\: 10^{-6}}{L_{WL}} \\right)^{1/3} - 10.0 \\: R_n^{-1/3}\\right] + 1.25 \\: 10^{-4}\n",
    "$$\n",
    "\n",
    "V primeru testov vzamemo za hrapavost vedno vrednost $H=150$ (hrapavost se meri v *mikronih* [$10^{-6}$m]). \n",
    "\n",
    "Koeficient trenja določimo po ITTC'59 formuli\n",
    "\n",
    "$$\n",
    "C_F^s = \\frac{0.075}{(\\log R_e - 2)^2}, ~~~ Re = \\frac{V \\: L}{\\nu}, ~~~ \\nu=\\frac{\\mu}{\\rho},\n",
    "$$\n",
    "\n",
    "kjer je $R_e$ Reynoldsovo število, $\\nu$ pa kinematična viskoznost.\n",
    "\n",
    "Poleg dodatnega popravka zaradi hrapavosti, je potrebno upoštevati še korelacijski koeficient $C_{ms}$, ki ga določa vsak inštitut zase na podlagi dolgoletnih izkušenj. Korelacijski koeficient določa popravek za meritev med uporom modela in rešitvijo upora ladje. Celoten upor ladje je sedaj enak\n",
    "\n",
    "$$\n",
    "C_T^s = (1 + k)(C_F^s + \\Delta C_F) + C_R + C_A^s + C_{ms}\n",
    "$$"
   ]
  },
  {
   "cell_type": "code",
   "execution_count": null,
   "id": "7b6f9ad5-6592-45e5-8d89-0730c702b6c2",
   "metadata": {},
   "outputs": [],
   "source": [
    "H = 150\n",
    "Cms = -2.28e-4\n",
    "V_s = Fn*mat.sqrt(9.81*Lpp_s)\n",
    "phi = Cb/Lpp_s * mat.sqrt(B_s*(Tf_s + Ta_s))\n",
    "k = 0.6 * phi + 145 * phi**3.5\n",
    "\n",
    "Ct_s = np.zeros(dDimInt)\n",
    "for i in range(dDimInt):\n",
    "    Rn_s = V_s[i] * Lpp_s/(mu_s/rho_s);\n",
    "    Cf_s = 0.075 / (mat.log10(Rn_s) - 2)**2\n",
    "    DCf = 0.044 * ((H*1e-6/Lpp_s)**(1/3) - 10*Rn_s**(-1/3)) + 1.25e-4\n",
    "    Ct_s[i] = (1+k)*(Cf_s + DCf) + Cr[i] + Cair + Cms\n",
    "    \n",
    "fig, ax = plt.subplots()\n",
    "fig.suptitle('Celotni upor ladje');\n",
    "\n",
    "ax.plot(Fn, Ct_s, 'b-')\n",
    "ax.set_xlabel('$F_r$')\n",
    "ax.set_ylabel('$C_T^s$')\n",
    "ax.grid(which='both')\n",
    "ax.grid(which='major', color='#DDDDDD', linewidth=0.8)\n",
    "ax.grid(which='minor', color='#EEEEEE', linestyle=':', linewidth=0.5)\n",
    "ax.minorticks_on()\n",
    "fig.savefig('model_resistance_total_ship_Fr.pdf')"
   ]
  },
  {
   "cell_type": "markdown",
   "id": "efaf19ba-1ec6-4bf4-bc60-a8430c7df1a4",
   "metadata": {},
   "source": [
    "## Celoten upor ladje in efektivna moč\n",
    "\n",
    "Celoten upor ladje določimo s pomočjo koeficienta celotnega upora\n",
    "\n",
    "$$\n",
    "R_T = \\frac{1}{2} \\: C_T^s \\: \\rho \\: V_s^2 \\: S\n",
    "$$"
   ]
  },
  {
   "cell_type": "code",
   "execution_count": null,
   "id": "682db09a-a1a3-4bb8-a97b-a2d9c1ea5afc",
   "metadata": {},
   "outputs": [],
   "source": [
    "R_s = np.zeros(dDimInt);\n",
    "for i in range(dDimInt):\n",
    "    R_s[i] = 0.5*rho_s*V_s[i]**2*Ct_s[i]*S_s/1000;\n",
    "\n",
    "fig, ax = plt.subplots()\n",
    "fig.suptitle('Celoten realen upor ladje');\n",
    "\n",
    "ax.plot(V_s*3600/1852, R_s, 'b-')\n",
    "ax.set_xlabel('$V$ [kts]')\n",
    "ax.set_ylabel('$R_T$ [kN]')\n",
    "ax.grid(which='both')\n",
    "ax.grid(which='major', color='#DDDDDD', linewidth=0.8)\n",
    "ax.grid(which='minor', color='#EEEEEE', linestyle=':', linewidth=0.5)\n",
    "ax.minorticks_on()\n",
    "fig.savefig('model_resistance_total_ship.pdf')"
   ]
  },
  {
   "cell_type": "markdown",
   "id": "e5d022c3-89aa-4d97-a546-98e71c23418f",
   "metadata": {},
   "source": [
    "Iskanje optimalne hitrosti poteka na način, da poiščemo najnižji koeficient celotnega upora v intervalu načrtovane hitrosti ladje, ki jo določa ladjar"
   ]
  },
  {
   "cell_type": "code",
   "execution_count": null,
   "id": "e2803eea-eeea-4318-9764-cd6beadbfd98",
   "metadata": {},
   "outputs": [],
   "source": [
    "Fr_opt = opt_Fn;\n",
    "Vx_opt = Fr_opt * mat.sqrt(9.81 * Lpp_s) * 3600/1852\n",
    "Rx_opt = np.interp(Vx_opt, V_s*3600/1852, R_s) # smo interpolirali tabelirane podatke\n",
    "print('Rx = {:.2f} kN for speed Vx = {:.2f} kts (Fr={:.2f})'.format(Rx_opt, Vx_opt, Fr_opt))"
   ]
  },
  {
   "cell_type": "markdown",
   "id": "5038bf7e-95ad-409e-9d60-fe964fd7991f",
   "metadata": {},
   "source": [
    "Efektivna moč, ki je potrebna za doseganje določene hitrosti\n",
    "\n",
    "$$\n",
    "P_{e} = R_s \\: V_s\n",
    "$$"
   ]
  },
  {
   "cell_type": "code",
   "execution_count": null,
   "id": "f054588f-4348-45df-8e83-412feafc8d9f",
   "metadata": {},
   "outputs": [],
   "source": [
    "P_eff = np.multiply(R_s,V_s)\n",
    "P_eff_opt = Rx_opt * Fr_opt * mat.sqrt(9.81 * Lpp_s)\n",
    "\n",
    "fig, ax = plt.subplots()\n",
    "fig.suptitle('Efektivna moč');\n",
    "\n",
    "ax.plot(V_s*3600/1852, P_eff/1000, 'b-')\n",
    "ax.plot(Vx_opt,P_eff_opt/1000, 'r+', label='optimalna plovba')\n",
    "ax.set_xlabel('$V$ [kts]')\n",
    "ax.set_ylabel('$P$ [MW]')\n",
    "ax.grid(which='both')\n",
    "ax.grid(which='major', color='#DDDDDD', linewidth=0.8)\n",
    "ax.grid(which='minor', color='#EEEEEE', linestyle=':', linewidth=0.5)\n",
    "ax.minorticks_on()\n",
    "ax.legend()\n",
    "fig.savefig('model_eff_power_ship.pdf')"
   ]
  },
  {
   "cell_type": "code",
   "execution_count": null,
   "id": "6bdcf341-f285-4fb4-8db5-bbbbc4f15da7",
   "metadata": {},
   "outputs": [],
   "source": [
    "print('P_eff = {:.2f} kW @ v= {:.2f} kts, Fr = {:.3f}, H = {:.1f}'.format(P_eff_opt, Fr_opt * mat.sqrt(9.81 * Lpp_s)*3.6/1.852, Fr_opt, H))"
   ]
  }
 ],
 "metadata": {
  "kernelspec": {
   "display_name": "Python 3 (ipykernel)",
   "language": "python",
   "name": "python3"
  },
  "language_info": {
   "codemirror_mode": {
    "name": "ipython",
    "version": 3
   },
   "file_extension": ".py",
   "mimetype": "text/x-python",
   "name": "python",
   "nbconvert_exporter": "python",
   "pygments_lexer": "ipython3",
   "version": "3.11.9"
  }
 },
 "nbformat": 4,
 "nbformat_minor": 5
}
